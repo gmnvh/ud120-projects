{
 "cells": [
  {
   "cell_type": "markdown",
   "metadata": {},
   "source": [
    "## Lesson 3 SVM Mini Project\n",
    "\n",
    "This is the code to accompany the Lesson 3 (SVM) mini-project.\n",
    "\n",
    "In this mini-project, we’ll tackle the exact same email author ID problem as the Naive Bayes mini-project, but now with an SVM. What we find will help clarify some of the practical differences between the two algorithms. This project also gives us a chance to play around with parameters a lot more than Naive Bayes did, so we will do that too."
   ]
  },
  {
   "cell_type": "markdown",
   "metadata": {},
   "source": [
    "### Imports and dataset process"
   ]
  },
  {
   "cell_type": "code",
   "execution_count": 2,
   "metadata": {},
   "outputs": [
    {
     "name": "stderr",
     "output_type": "stream",
     "text": [
      "C:\\Users\\cz8l9t\\AppData\\Local\\Continuum\\anaconda2\\lib\\site-packages\\sklearn\\cross_validation.py:41: DeprecationWarning: This module was deprecated in version 0.18 in favor of the model_selection module into which all the refactored classes and functions are moved. Also note that the interface of the new CV iterators are different from that of this module. This module will be removed in 0.20.\n",
      "  \"This module will be removed in 0.20.\", DeprecationWarning)\n"
     ]
    },
    {
     "name": "stdout",
     "output_type": "stream",
     "text": [
      "no. of Chris training emails: 7936\n",
      "no. of Sara training emails: 7884\n"
     ]
    }
   ],
   "source": [
    "import sys\n",
    "from time import time\n",
    "sys.path.append(\"../tools/\")\n",
    "from email_preprocess import preprocess\n",
    "\n",
    "from sklearn import svm\n",
    "from sklearn.metrics import accuracy_score\n",
    "\n",
    "\n",
    "### features_train and features_test are the features for the training\n",
    "### and testing datasets, respectively\n",
    "### labels_train and labels_test are the corresponding item labels\n",
    "features_train, features_test, labels_train, labels_test = preprocess()"
   ]
  },
  {
   "cell_type": "markdown",
   "metadata": {},
   "source": [
    "### L3Q28 / L3Q29 - Using a linear kernel, what is the accuracy of the classifier ? Is it faster or slower than Naive Bayes ?"
   ]
  },
  {
   "cell_type": "code",
   "execution_count": 4,
   "metadata": {},
   "outputs": [
    {
     "name": "stdout",
     "output_type": "stream",
     "text": [
      "Linear kernel - accuracy  0.984072810011\n",
      "Fit and prediction time: 162.183 s\n"
     ]
    }
   ],
   "source": [
    "clf_linear = svm.SVC(kernel='linear')\n",
    "\n",
    "t0 = time()\n",
    "clf_linear.fit(features_train, labels_train)\n",
    "pred = clf_linear.predict(features_test)\n",
    "accuracy = accuracy_score(pred, labels_test)\n",
    "print 'Linear kernel - accuracy ', accuracy\n",
    "print \"Fit and prediction time:\", round(time()-t0, 3), \"s\""
   ]
  },
  {
   "cell_type": "markdown",
   "metadata": {},
   "source": [
    "### L3Q30  - Re-do with just 1% of the data. What the accuracy now ?"
   ]
  },
  {
   "cell_type": "code",
   "execution_count": 5,
   "metadata": {},
   "outputs": [
    {
     "name": "stdout",
     "output_type": "stream",
     "text": [
      "Linear kernel with 1% of the data - accuracy  0.884527872582\n",
      "Fit and prediction time: 0.975 s\n"
     ]
    }
   ],
   "source": [
    "features_train_reduced = features_train[:len(features_train)/100] \n",
    "labels_train_reduced = labels_train[:len(labels_train)/100]\n",
    "\n",
    "t0 = time()\n",
    "clf_linear.fit(features_train_reduced, labels_train_reduced)\n",
    "pred = clf_linear.predict(features_test)\n",
    "accuracy = accuracy_score(pred, labels_test)\n",
    "print 'Linear kernel with 1% of the data - accuracy ', accuracy\n",
    "print \"Fit and prediction time:\", round(time()-t0, 3), \"s\""
   ]
  },
  {
   "cell_type": "markdown",
   "metadata": {},
   "source": [
    "### L3Q32 - Re-do with 1% of the data and rbf kernel"
   ]
  },
  {
   "cell_type": "code",
   "execution_count": 6,
   "metadata": {},
   "outputs": [
    {
     "name": "stdout",
     "output_type": "stream",
     "text": [
      "Rbf kernel with 1% of the data - accuracy  0.616040955631\n",
      "Fit and prediction time: 1.134 s\n"
     ]
    }
   ],
   "source": [
    "clf_rbf = svm.SVC(kernel='rbf')\n",
    "\n",
    "t0 = time()\n",
    "clf_rbf.fit(features_train_reduced, labels_train_reduced)\n",
    "pred = clf_rbf.predict(features_test)\n",
    "accuracy = accuracy_score(pred, labels_test)\n",
    "print 'Rbf kernel with 1% of the data - accuracy ', accuracy\n",
    "print \"Fit and prediction time:\", round(time()-t0, 3), \"s\""
   ]
  },
  {
   "cell_type": "markdown",
   "metadata": {},
   "source": [
    "### L3Q33 - Try differente values for C"
   ]
  },
  {
   "cell_type": "code",
   "execution_count": 7,
   "metadata": {},
   "outputs": [
    {
     "name": "stdout",
     "output_type": "stream",
     "text": [
      "Rbf kernel with 1% of the data and C =  1.0  - accuracy  0.616040955631\n",
      "Fit and prediction time: 1.16 s\n",
      "Rbf kernel with 1% of the data and C =  10.0  - accuracy  0.616040955631\n",
      "Fit and prediction time: 1.134 s\n",
      "Rbf kernel with 1% of the data and C =  100.0  - accuracy  0.616040955631\n",
      "Fit and prediction time: 1.134 s\n",
      "Rbf kernel with 1% of the data and C =  1000.0  - accuracy  0.821387940842\n",
      "Fit and prediction time: 1.15 s\n",
      "Rbf kernel with 1% of the data and C =  10000.0  - accuracy  0.892491467577\n",
      "Fit and prediction time: 0.96 s\n"
     ]
    }
   ],
   "source": [
    "c_values = [1.0, 10.0, 100.0, 1000.0, 10000.0]\n",
    "\n",
    "for c in c_values:\n",
    "    clf_rbf = svm.SVC(kernel='rbf', C=c)\n",
    "\n",
    "    t0 = time()\n",
    "    clf_rbf.fit(features_train_reduced, labels_train_reduced)\n",
    "    pred = clf_rbf.predict(features_test)\n",
    "    accuracy = accuracy_score(pred, labels_test)\n",
    "    print 'Rbf kernel with 1% of the data and C = ', c, ' - accuracy ', accuracy\n",
    "    print \"Fit and prediction time:\", round(time()-t0, 3), \"s\""
   ]
  },
  {
   "cell_type": "markdown",
   "metadata": {},
   "source": [
    "### L3Q35 - Using C=10000 try the full database"
   ]
  },
  {
   "cell_type": "code",
   "execution_count": 8,
   "metadata": {},
   "outputs": [
    {
     "name": "stdout",
     "output_type": "stream",
     "text": [
      "Rbf kernel and C=10000 - accuracy  0.990898748578\n",
      "Fit and prediction time: 109.918 s\n"
     ]
    }
   ],
   "source": [
    "clf_rbf = svm.SVC(kernel='rbf', C=10000.0)\n",
    "\n",
    "t0 = time()\n",
    "clf_rbf.fit(features_train, labels_train)\n",
    "pred = clf_rbf.predict(features_test)\n",
    "accuracy = accuracy_score(pred, labels_test)\n",
    "print 'Rbf kernel and C=10000 - accuracy ', accuracy\n",
    "print \"Fit and prediction time:\", round(time()-t0, 3), \"s\" "
   ]
  },
  {
   "cell_type": "markdown",
   "metadata": {},
   "source": [
    "### L3Q36 - Class values for 10, 26 and 50"
   ]
  },
  {
   "cell_type": "code",
   "execution_count": 9,
   "metadata": {},
   "outputs": [
    {
     "name": "stdout",
     "output_type": "stream",
     "text": [
      "Class values for 10, 26 and 50\n",
      "1 0 1\n"
     ]
    }
   ],
   "source": [
    "clf_rbf = svm.SVC(kernel='rbf', C=10000.0)\n",
    "\n",
    "t0 = time()\n",
    "clf_rbf.fit(features_train_reduced, labels_train_reduced)\n",
    "pred_reduced = clf_rbf.predict(features_test)\n",
    "print 'Class values for 10, 26 and 50'\n",
    "print pred_reduced[10], pred_reduced[26], pred_reduced[50]"
   ]
  },
  {
   "cell_type": "markdown",
   "metadata": {},
   "source": [
    "### L3Q37 - There are over 1700 test events--how many are predicted to be in the “Chris” (1) class? (Use the RBF kernel, C=10000., and the full training set.)"
   ]
  },
  {
   "cell_type": "code",
   "execution_count": 10,
   "metadata": {},
   "outputs": [
    {
     "name": "stdout",
     "output_type": "stream",
     "text": [
      "Prediction length:  1758\n",
      "Predictions for Chris(1) 877\n"
     ]
    }
   ],
   "source": [
    "print 'Prediction length: ', len(pred)\n",
    "print 'Predictions for Chris(1)', len([a for a in pred if a == 1])"
   ]
  }
 ],
 "metadata": {
  "kernelspec": {
   "display_name": "Python 2",
   "language": "python",
   "name": "python2"
  },
  "language_info": {
   "codemirror_mode": {
    "name": "ipython",
    "version": 2
   },
   "file_extension": ".py",
   "mimetype": "text/x-python",
   "name": "python",
   "nbconvert_exporter": "python",
   "pygments_lexer": "ipython2",
   "version": "2.7.14"
  }
 },
 "nbformat": 4,
 "nbformat_minor": 2
}
